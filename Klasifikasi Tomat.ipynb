{
 "cells": [
  {
   "cell_type": "markdown",
   "id": "f7a2f28f-6206-45dc-ac93-f87d61946f40",
   "metadata": {},
   "source": [
    "# Klasifikasi Tomat\n",
    "\n",
    "Step by Step membuat klasifikasi tomat apakah termasuk kedalam grade **Ekspor, Lokal Premium atau Industri.**\n",
    "\n",
    "Grade:\n",
    "1. Ekspor = grade tertinggi, untuk ekspor\n",
    "2. Lokal Preium = grade menengah, untuk didistribusikan ke swalayan/toko\n",
    "3. Industri = grade terbawah, untuk dikirim ke pabrik saus tomat"
   ]
  },
  {
   "cell_type": "code",
   "execution_count": 2,
   "id": "6194fc36-2a62-40e8-872c-3bf35fb63d11",
   "metadata": {},
   "outputs": [
    {
     "data": {
      "text/html": [
       "<div>\n",
       "<style scoped>\n",
       "    .dataframe tbody tr th:only-of-type {\n",
       "        vertical-align: middle;\n",
       "    }\n",
       "\n",
       "    .dataframe tbody tr th {\n",
       "        vertical-align: top;\n",
       "    }\n",
       "\n",
       "    .dataframe thead th {\n",
       "        text-align: right;\n",
       "    }\n",
       "</style>\n",
       "<table border=\"1\" class=\"dataframe\">\n",
       "  <thead>\n",
       "    <tr style=\"text-align: right;\">\n",
       "      <th></th>\n",
       "      <th>berat</th>\n",
       "      <th>kekenyalan</th>\n",
       "      <th>kadar_gula</th>\n",
       "      <th>tebal_kulit</th>\n",
       "      <th>grade</th>\n",
       "    </tr>\n",
       "  </thead>\n",
       "  <tbody>\n",
       "    <tr>\n",
       "      <th>0</th>\n",
       "      <td>95</td>\n",
       "      <td>8.5</td>\n",
       "      <td>4.8</td>\n",
       "      <td>0.85</td>\n",
       "      <td>Ekspor</td>\n",
       "    </tr>\n",
       "    <tr>\n",
       "      <th>1</th>\n",
       "      <td>88</td>\n",
       "      <td>9.2</td>\n",
       "      <td>5.1</td>\n",
       "      <td>0.90</td>\n",
       "      <td>Ekspor</td>\n",
       "    </tr>\n",
       "    <tr>\n",
       "      <th>2</th>\n",
       "      <td>102</td>\n",
       "      <td>8.8</td>\n",
       "      <td>4.9</td>\n",
       "      <td>0.82</td>\n",
       "      <td>Ekspor</td>\n",
       "    </tr>\n",
       "    <tr>\n",
       "      <th>3</th>\n",
       "      <td>110</td>\n",
       "      <td>8.1</td>\n",
       "      <td>4.6</td>\n",
       "      <td>0.88</td>\n",
       "      <td>Ekspor</td>\n",
       "    </tr>\n",
       "    <tr>\n",
       "      <th>4</th>\n",
       "      <td>92</td>\n",
       "      <td>9.0</td>\n",
       "      <td>5.0</td>\n",
       "      <td>0.87</td>\n",
       "      <td>Ekspor</td>\n",
       "    </tr>\n",
       "    <tr>\n",
       "      <th>...</th>\n",
       "      <td>...</td>\n",
       "      <td>...</td>\n",
       "      <td>...</td>\n",
       "      <td>...</td>\n",
       "      <td>...</td>\n",
       "    </tr>\n",
       "    <tr>\n",
       "      <th>85</th>\n",
       "      <td>180</td>\n",
       "      <td>4.2</td>\n",
       "      <td>3.0</td>\n",
       "      <td>0.57</td>\n",
       "      <td>Industri</td>\n",
       "    </tr>\n",
       "    <tr>\n",
       "      <th>86</th>\n",
       "      <td>208</td>\n",
       "      <td>3.4</td>\n",
       "      <td>2.8</td>\n",
       "      <td>0.53</td>\n",
       "      <td>Industri</td>\n",
       "    </tr>\n",
       "    <tr>\n",
       "      <th>87</th>\n",
       "      <td>172</td>\n",
       "      <td>4.7</td>\n",
       "      <td>3.2</td>\n",
       "      <td>0.59</td>\n",
       "      <td>Industri</td>\n",
       "    </tr>\n",
       "    <tr>\n",
       "      <th>88</th>\n",
       "      <td>188</td>\n",
       "      <td>4.0</td>\n",
       "      <td>2.9</td>\n",
       "      <td>0.56</td>\n",
       "      <td>Industri</td>\n",
       "    </tr>\n",
       "    <tr>\n",
       "      <th>89</th>\n",
       "      <td>198</td>\n",
       "      <td>3.6</td>\n",
       "      <td>2.6</td>\n",
       "      <td>0.54</td>\n",
       "      <td>Industri</td>\n",
       "    </tr>\n",
       "  </tbody>\n",
       "</table>\n",
       "<p>90 rows × 5 columns</p>\n",
       "</div>"
      ],
      "text/plain": [
       "    berat  kekenyalan  kadar_gula  tebal_kulit     grade\n",
       "0      95         8.5         4.8         0.85    Ekspor\n",
       "1      88         9.2         5.1         0.90    Ekspor\n",
       "2     102         8.8         4.9         0.82    Ekspor\n",
       "3     110         8.1         4.6         0.88    Ekspor\n",
       "4      92         9.0         5.0         0.87    Ekspor\n",
       "..    ...         ...         ...          ...       ...\n",
       "85    180         4.2         3.0         0.57  Industri\n",
       "86    208         3.4         2.8         0.53  Industri\n",
       "87    172         4.7         3.2         0.59  Industri\n",
       "88    188         4.0         2.9         0.56  Industri\n",
       "89    198         3.6         2.6         0.54  Industri\n",
       "\n",
       "[90 rows x 5 columns]"
      ]
     },
     "execution_count": 2,
     "metadata": {},
     "output_type": "execute_result"
    }
   ],
   "source": [
    "# mengimport pandas dan memanggil dataset\n",
    "import pandas as pd\n",
    "\n",
    "df = pd.read_csv(\"dataset_tomat.csv\")\n",
    "df "
   ]
  },
  {
   "cell_type": "code",
   "execution_count": 4,
   "id": "f8a0951f-8468-4d20-a959-3be7964b4a3a",
   "metadata": {},
   "outputs": [
    {
     "data": {
      "text/plain": [
       "(90, 5)"
      ]
     },
     "execution_count": 4,
     "metadata": {},
     "output_type": "execute_result"
    }
   ],
   "source": [
    "#menampilkan jumlah baris dan kolom\n",
    "df.shape"
   ]
  },
  {
   "cell_type": "code",
   "execution_count": 6,
   "id": "6996c06e-6f3a-487a-9bc8-7481b88d4382",
   "metadata": {},
   "outputs": [
    {
     "data": {
      "text/plain": [
       "Index(['berat', 'kekenyalan', 'kadar_gula', 'tebal_kulit', 'grade'], dtype='object')"
      ]
     },
     "execution_count": 6,
     "metadata": {},
     "output_type": "execute_result"
    }
   ],
   "source": [
    "#menampilkan kolom-kolom di dataframe\n",
    "df.columns"
   ]
  },
  {
   "cell_type": "code",
   "execution_count": 7,
   "id": "9d3b1138-b416-4f34-a973-691e4888f15b",
   "metadata": {},
   "outputs": [
    {
     "data": {
      "text/plain": [
       "berat            int64\n",
       "kekenyalan     float64\n",
       "kadar_gula     float64\n",
       "tebal_kulit    float64\n",
       "grade           object\n",
       "dtype: object"
      ]
     },
     "execution_count": 7,
     "metadata": {},
     "output_type": "execute_result"
    }
   ],
   "source": [
    "#menampilkan kolom beserta tipe datanya\n",
    "df.dtypes\n"
   ]
  },
  {
   "cell_type": "code",
   "execution_count": 9,
   "id": "dc003577-2a32-4bae-8a6d-be96758781d0",
   "metadata": {},
   "outputs": [
    {
     "data": {
      "text/html": [
       "<div>\n",
       "<style scoped>\n",
       "    .dataframe tbody tr th:only-of-type {\n",
       "        vertical-align: middle;\n",
       "    }\n",
       "\n",
       "    .dataframe tbody tr th {\n",
       "        vertical-align: top;\n",
       "    }\n",
       "\n",
       "    .dataframe thead th {\n",
       "        text-align: right;\n",
       "    }\n",
       "</style>\n",
       "<table border=\"1\" class=\"dataframe\">\n",
       "  <thead>\n",
       "    <tr style=\"text-align: right;\">\n",
       "      <th></th>\n",
       "      <th>berat</th>\n",
       "      <th>kekenyalan</th>\n",
       "      <th>kadar_gula</th>\n",
       "      <th>tebal_kulit</th>\n",
       "      <th>grade</th>\n",
       "    </tr>\n",
       "  </thead>\n",
       "  <tbody>\n",
       "    <tr>\n",
       "      <th>0</th>\n",
       "      <td>95</td>\n",
       "      <td>8.5</td>\n",
       "      <td>4.8</td>\n",
       "      <td>0.85</td>\n",
       "      <td>Ekspor</td>\n",
       "    </tr>\n",
       "    <tr>\n",
       "      <th>1</th>\n",
       "      <td>88</td>\n",
       "      <td>9.2</td>\n",
       "      <td>5.1</td>\n",
       "      <td>0.90</td>\n",
       "      <td>Ekspor</td>\n",
       "    </tr>\n",
       "    <tr>\n",
       "      <th>2</th>\n",
       "      <td>102</td>\n",
       "      <td>8.8</td>\n",
       "      <td>4.9</td>\n",
       "      <td>0.82</td>\n",
       "      <td>Ekspor</td>\n",
       "    </tr>\n",
       "  </tbody>\n",
       "</table>\n",
       "</div>"
      ],
      "text/plain": [
       "   berat  kekenyalan  kadar_gula  tebal_kulit   grade\n",
       "0     95         8.5         4.8         0.85  Ekspor\n",
       "1     88         9.2         5.1         0.90  Ekspor\n",
       "2    102         8.8         4.9         0.82  Ekspor"
      ]
     },
     "execution_count": 9,
     "metadata": {},
     "output_type": "execute_result"
    }
   ],
   "source": [
    "#menampilkan 3 data teratas\n",
    "df.head(3)"
   ]
  },
  {
   "cell_type": "code",
   "execution_count": 10,
   "id": "8de164cb-e463-4c69-968e-ec3472c97615",
   "metadata": {},
   "outputs": [
    {
     "data": {
      "text/html": [
       "<div>\n",
       "<style scoped>\n",
       "    .dataframe tbody tr th:only-of-type {\n",
       "        vertical-align: middle;\n",
       "    }\n",
       "\n",
       "    .dataframe tbody tr th {\n",
       "        vertical-align: top;\n",
       "    }\n",
       "\n",
       "    .dataframe thead th {\n",
       "        text-align: right;\n",
       "    }\n",
       "</style>\n",
       "<table border=\"1\" class=\"dataframe\">\n",
       "  <thead>\n",
       "    <tr style=\"text-align: right;\">\n",
       "      <th></th>\n",
       "      <th>berat</th>\n",
       "      <th>kekenyalan</th>\n",
       "      <th>kadar_gula</th>\n",
       "      <th>tebal_kulit</th>\n",
       "      <th>grade</th>\n",
       "    </tr>\n",
       "  </thead>\n",
       "  <tbody>\n",
       "    <tr>\n",
       "      <th>87</th>\n",
       "      <td>172</td>\n",
       "      <td>4.7</td>\n",
       "      <td>3.2</td>\n",
       "      <td>0.59</td>\n",
       "      <td>Industri</td>\n",
       "    </tr>\n",
       "    <tr>\n",
       "      <th>88</th>\n",
       "      <td>188</td>\n",
       "      <td>4.0</td>\n",
       "      <td>2.9</td>\n",
       "      <td>0.56</td>\n",
       "      <td>Industri</td>\n",
       "    </tr>\n",
       "    <tr>\n",
       "      <th>89</th>\n",
       "      <td>198</td>\n",
       "      <td>3.6</td>\n",
       "      <td>2.6</td>\n",
       "      <td>0.54</td>\n",
       "      <td>Industri</td>\n",
       "    </tr>\n",
       "  </tbody>\n",
       "</table>\n",
       "</div>"
      ],
      "text/plain": [
       "    berat  kekenyalan  kadar_gula  tebal_kulit     grade\n",
       "87    172         4.7         3.2         0.59  Industri\n",
       "88    188         4.0         2.9         0.56  Industri\n",
       "89    198         3.6         2.6         0.54  Industri"
      ]
     },
     "execution_count": 10,
     "metadata": {},
     "output_type": "execute_result"
    }
   ],
   "source": [
    "#menampilkan 3 data terbawah\n",
    "df.tail(3)"
   ]
  },
  {
   "cell_type": "code",
   "execution_count": 13,
   "id": "38a0a510-e827-42a3-8136-803c16af0c80",
   "metadata": {},
   "outputs": [
    {
     "data": {
      "text/plain": [
       "grade\n",
       "Ekspor           30\n",
       "Lokal Premium    30\n",
       "Industri         30\n",
       "Name: count, dtype: int64"
      ]
     },
     "execution_count": 13,
     "metadata": {},
     "output_type": "execute_result"
    }
   ],
   "source": [
    "#menampilkan isian kolom grade beserta jumlah masing-masing\n",
    "df[\"grade\"].value_counts()"
   ]
  },
  {
   "cell_type": "code",
   "execution_count": 15,
   "id": "576c4b88-b4af-4336-9aeb-a69feb9e37cc",
   "metadata": {},
   "outputs": [
    {
     "name": "stdout",
     "output_type": "stream",
     "text": [
      "<class 'pandas.core.frame.DataFrame'>\n",
      "RangeIndex: 90 entries, 0 to 89\n",
      "Data columns (total 5 columns):\n",
      " #   Column       Non-Null Count  Dtype  \n",
      "---  ------       --------------  -----  \n",
      " 0   berat        90 non-null     int64  \n",
      " 1   kekenyalan   90 non-null     float64\n",
      " 2   kadar_gula   90 non-null     float64\n",
      " 3   tebal_kulit  90 non-null     float64\n",
      " 4   grade        90 non-null     object \n",
      "dtypes: float64(3), int64(1), object(1)\n",
      "memory usage: 3.6+ KB\n"
     ]
    }
   ],
   "source": [
    "# menampilkan struktur dataframe\n",
    "df.info()"
   ]
  },
  {
   "cell_type": "code",
   "execution_count": 16,
   "id": "6aec80a6-f6e3-46a5-ae56-6f89757ef032",
   "metadata": {},
   "outputs": [
    {
     "data": {
      "text/html": [
       "<div>\n",
       "<style scoped>\n",
       "    .dataframe tbody tr th:only-of-type {\n",
       "        vertical-align: middle;\n",
       "    }\n",
       "\n",
       "    .dataframe tbody tr th {\n",
       "        vertical-align: top;\n",
       "    }\n",
       "\n",
       "    .dataframe thead th {\n",
       "        text-align: right;\n",
       "    }\n",
       "</style>\n",
       "<table border=\"1\" class=\"dataframe\">\n",
       "  <thead>\n",
       "    <tr style=\"text-align: right;\">\n",
       "      <th></th>\n",
       "      <th>berat</th>\n",
       "      <th>kekenyalan</th>\n",
       "      <th>kadar_gula</th>\n",
       "      <th>tebal_kulit</th>\n",
       "    </tr>\n",
       "  </thead>\n",
       "  <tbody>\n",
       "    <tr>\n",
       "      <th>count</th>\n",
       "      <td>90.000000</td>\n",
       "      <td>90.000000</td>\n",
       "      <td>90.000000</td>\n",
       "      <td>90.000000</td>\n",
       "    </tr>\n",
       "    <tr>\n",
       "      <th>mean</th>\n",
       "      <td>142.388889</td>\n",
       "      <td>6.547778</td>\n",
       "      <td>3.956667</td>\n",
       "      <td>0.721778</td>\n",
       "    </tr>\n",
       "    <tr>\n",
       "      <th>std</th>\n",
       "      <td>37.919398</td>\n",
       "      <td>1.933456</td>\n",
       "      <td>0.785265</td>\n",
       "      <td>0.126461</td>\n",
       "    </tr>\n",
       "    <tr>\n",
       "      <th>min</th>\n",
       "      <td>85.000000</td>\n",
       "      <td>3.400000</td>\n",
       "      <td>2.600000</td>\n",
       "      <td>0.510000</td>\n",
       "    </tr>\n",
       "    <tr>\n",
       "      <th>25%</th>\n",
       "      <td>104.250000</td>\n",
       "      <td>4.525000</td>\n",
       "      <td>3.225000</td>\n",
       "      <td>0.592500</td>\n",
       "    </tr>\n",
       "    <tr>\n",
       "      <th>50%</th>\n",
       "      <td>143.000000</td>\n",
       "      <td>6.850000</td>\n",
       "      <td>4.000000</td>\n",
       "      <td>0.730000</td>\n",
       "    </tr>\n",
       "    <tr>\n",
       "      <th>75%</th>\n",
       "      <td>175.500000</td>\n",
       "      <td>8.375000</td>\n",
       "      <td>4.700000</td>\n",
       "      <td>0.847500</td>\n",
       "    </tr>\n",
       "    <tr>\n",
       "      <th>max</th>\n",
       "      <td>210.000000</td>\n",
       "      <td>9.400000</td>\n",
       "      <td>5.200000</td>\n",
       "      <td>0.920000</td>\n",
       "    </tr>\n",
       "  </tbody>\n",
       "</table>\n",
       "</div>"
      ],
      "text/plain": [
       "            berat  kekenyalan  kadar_gula  tebal_kulit\n",
       "count   90.000000   90.000000   90.000000    90.000000\n",
       "mean   142.388889    6.547778    3.956667     0.721778\n",
       "std     37.919398    1.933456    0.785265     0.126461\n",
       "min     85.000000    3.400000    2.600000     0.510000\n",
       "25%    104.250000    4.525000    3.225000     0.592500\n",
       "50%    143.000000    6.850000    4.000000     0.730000\n",
       "75%    175.500000    8.375000    4.700000     0.847500\n",
       "max    210.000000    9.400000    5.200000     0.920000"
      ]
     },
     "execution_count": 16,
     "metadata": {},
     "output_type": "execute_result"
    }
   ],
   "source": [
    "#menampilkan statistik dataframe\n",
    "df.describe()"
   ]
  },
  {
   "cell_type": "code",
   "execution_count": 31,
   "id": "04b5f4dd-4f85-46d4-82f1-df1d41b96a4b",
   "metadata": {},
   "outputs": [
    {
     "data": {
      "image/png": "[encoded data removed]",
      "text/plain": [
       "<Figure size 600x500 with 1 Axes>"
      ]
     },
     "metadata": {},
     "output_type": "display_data"
    }
   ],
   "source": [
    "# visualisasi data dengan matplotlib\n",
    "# import matplotlib \n",
    "import matplotlib.pyplot as plt\n",
    "\n",
    "# siapkan data yang akan divisualisasikan\n",
    "ekspor = df[df[\"grade\"]==\"Ekspor\"]\n",
    "lokal_premium = df[df[\"grade\"]==\"Lokal Premium\"]\n",
    "industri = df[df[\"grade\"]==\"Industri\"]\n",
    "\n",
    "# buat ukuran bingkai / figura\n",
    "plt.figure(figsize=(6,5))\n",
    "\n",
    "plt.scatter(ekspor[\"berat\"], ekspor[\"kekenyalan\"], s=100, alpha=0.7, color=\"red\", label=\"Ekspor\")\n",
    "plt.scatter(lokal_premium[\"berat\"], lokal_premium[\"kekenyalan\"], s=100, alpha=0.7, color=\"green\", label=\"Lokal Premium\")\n",
    "plt.scatter(industri[\"berat\"], industri[\"kekenyalan\"], s=100, alpha=0.7, color=\"blue\", label=\"Industri\")\n",
    "plt.xlabel(\"berat\")\n",
    "plt.ylabel(\"kekenyalan\")\n",
    "plt.title(\"Berat vs Kekenyalan\")\n",
    "plt.legend()\n",
    "plt.grid(True, linestyle=\"--\",alpha=0.7)\n",
    "plt.show()"
   ]
  },
  {
   "cell_type": "code",
   "execution_count": 33,
   "id": "d2ba4e02-c195-425c-8b6c-dcde6cd277b3",
   "metadata": {},
   "outputs": [
    {
     "data": {
      "image/png": "[encoded data removed]",
      "text/plain": [
       "<Figure size 600x500 with 1 Axes>"
      ]
     },
     "metadata": {},
     "output_type": "display_data"
    }
   ],
   "source": [
    "# visualisasi data dengan matplotlib\n",
    "# import matplotlib \n",
    "import matplotlib.pyplot as plt\n",
    "\n",
    "# siapkan data yang akan divisualisasikan\n",
    "ekspor = df[df[\"grade\"]==\"Ekspor\"]\n",
    "lokal_premium = df[df[\"grade\"]==\"Lokal Premium\"]\n",
    "industri = df[df[\"grade\"]==\"Industri\"]\n",
    "\n",
    "# buat ukuran bingkai / figura\n",
    "plt.figure(figsize=(6,5))\n",
    "\n",
    "plt.scatter(ekspor[\"kadar_gula\"], ekspor[\"tebal_kulit\"], s=100, alpha=0.7, color=\"red\", label=\"Ekspor\")\n",
    "plt.scatter(lokal_premium[\"kadar_gula\"], lokal_premium[\"tebal_kulit\"], s=100, alpha=0.7, color=\"green\", label=\"Lokal Premium\")\n",
    "plt.scatter(industri[\"kadar_gula\"], industri[\"tebal_kulit\"], s=100, alpha=0.7, color=\"blue\", label=\"Industri\")\n",
    "plt.xlabel(\"Kadar Gula\")\n",
    "plt.ylabel(\"Tebal Kulit\")\n",
    "plt.title(\"Kadar Gula vs Tebal Kulit\")\n",
    "plt.legend()\n",
    "plt.grid(True, linestyle=\"--\",alpha=0.5)\n",
    "plt.show()"
   ]
  },
  {
   "cell_type": "code",
   "execution_count": 45,
   "id": "42c0cd76-65bf-4aa5-80af-285e4bb767f2",
   "metadata": {},
   "outputs": [
    {
     "name": "stdout",
     "output_type": "stream",
     "text": [
      "Akurasi : 1.0\n"
     ]
    }
   ],
   "source": [
    "# import library yang dibutuhkan\n",
    "# 'sediakan alat'\n",
    "from sklearn.linear_model import LogisticRegression\n",
    "from sklearn.model_selection import train_test_split\n",
    "from sklearn.metrics import accuracy_score \n",
    "from sklearn.preprocessing import StandardScaler\n",
    "\n",
    "# siapkan featurs dan target/label\n",
    "# 'siapkan bahan'\n",
    "\n",
    "# kolom untuk features\n",
    "X = df[[\"berat\", \"kekenyalan\", \"kadar_gula\", \"tebal_kulit\"]]\n",
    "\n",
    "#kolom untuk target\n",
    "y = df[\"grade\"]\n",
    "\n",
    "# pisahkan X dan y menjadi data latih dan data tes\n",
    "X_train, X_test, y_train, y_test = train_test_split(\n",
    "    X, y, test_size=0.2, random_state=42\n",
    ")\n",
    "\n",
    "# siapkan scaler\n",
    "# 'siapkan pengompres angkanya'\n",
    "\n",
    "scaler = StandardScaler()\n",
    "X_train_scaled = scaler.fit_transform(X_train)\n",
    "X_test_scaled = scaler.transform(X_test)\n",
    "\n",
    "# buat algoritma machine learning-nya\n",
    "# 'buat otak baru'\n",
    "model = LogisticRegression()\n",
    "\n",
    "# ' suruh otak belajar dari latihan soal + kunci latihan'\n",
    "model.fit(X_train_scaled, y_train)\n",
    "\n",
    "# 'suruh otak ulangan, simpan jawabannya di y_pred'\n",
    "y_pred = model.predict(X_test_scaled)\n",
    "\n",
    "# 'bandingkan kunci jawaban dengan jawaban ulangannya'\n",
    "print(\"Akurasi :\", accuracy_score(y_test, y_pred))"
   ]
  },
  {
   "cell_type": "code",
   "execution_count": 46,
   "id": "3e19c231-1521-4777-af1a-4f6937b77d75",
   "metadata": {},
   "outputs": [
    {
     "data": {
      "text/plain": [
       "array(['Ekspor', 'Industri', 'Lokal Premium'], dtype=object)"
      ]
     },
     "execution_count": 46,
     "metadata": {},
     "output_type": "execute_result"
    }
   ],
   "source": [
    "# menampilkan urutan class pada model\n",
    "model.classes_"
   ]
  },
  {
   "cell_type": "code",
   "execution_count": 62,
   "id": "bc6a2c10-1fca-4439-9769-ff19b861b547",
   "metadata": {},
   "outputs": [
    {
     "name": "stdout",
     "output_type": "stream",
     "text": [
      "Lokal Premium\n",
      "['Ekspor' 'Industri' 'Lokal Premium']\n",
      "[0.08720497 0.30054634 0.61224869]\n",
      "-----------------------------\n",
      "Model memprediksi Lokal Premium dengan tingkat keyakinan 61.22%\n"
     ]
    }
   ],
   "source": [
    "data_baru = pd.DataFrame([[15, 6.5, 5.0, 0.2]],columns=[\"berat\",\"kekenyalan\",\"kadar_gula\",\"tebal_kulit\"])\n",
    "\n",
    "data_baru_scaled = scaler.transform(data_baru)\n",
    "\n",
    "print(model.predict(data_baru_scaled)[0])\n",
    "print(model.classes_)\n",
    "print (model.predict_proba(data_baru_scaled)[0])\n",
    "\n",
    "print(\"-----------------------------\")\n",
    "# kode yang akan sering digunakan\n",
    "\n",
    "prediksi = model.predict(data_baru_scaled)[0]\n",
    "presentase =  max(model.predict_proba(data_baru_scaled)[0])\n",
    "print(f\"Model memprediksi {prediksi} dengan tingkat keyakinan {presentase*100:.2f}%\")"
   ]
  },
  {
   "cell_type": "code",
   "execution_count": 63,
   "id": "744b91c9-a22c-410a-a93e-b18b5de86bc5",
   "metadata": {},
   "outputs": [
    {
     "data": {
      "text/plain": [
       "['scaler_klasifikasi_tomat.joblib']"
      ]
     },
     "execution_count": 63,
     "metadata": {},
     "output_type": "execute_result"
    }
   ],
   "source": [
    "import joblib\n",
    "\n",
    "joblib.dump(model, \"model_klasifikasi_tomat.joblib\")\n",
    "joblib.dump(scaler, \"scaler_klasifikasi_tomat.joblib\")"
   ]
  }
 ],
 "metadata": {
  "kernelspec": {
   "display_name": "Python 3 (ipykernel)",
   "language": "python",
   "name": "python3"
  },
  "language_info": {
   "codemirror_mode": {
    "name": "ipython",
    "version": 3
   },
   "file_extension": ".py",
   "mimetype": "text/x-python",
   "name": "python",
   "nbconvert_exporter": "python",
   "pygments_lexer": "ipython3",
   "version": "3.13.5"
  }
 },
 "nbformat": 4,
 "nbformat_minor": 5
}
